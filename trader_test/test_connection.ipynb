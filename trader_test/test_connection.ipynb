{
 "cells": [
  {
   "cell_type": "code",
   "execution_count": 1,
   "metadata": {},
   "outputs": [],
   "source": [
    "import pywinauto\n",
    "from pywinauto import clipboard\n",
    "import time"
   ]
  },
  {
   "cell_type": "code",
   "execution_count": 2,
   "metadata": {},
   "outputs": [],
   "source": [
    "app = pywinauto.Application().connect(path=r\"C:\\同花顺软件\\同花顺\\xiadan.exe\",timeout=10)"
   ]
  },
  {
   "cell_type": "code",
   "execution_count": 3,
   "metadata": {},
   "outputs": [],
   "source": [
    "main = app.top_window()"
   ]
  },
  {
   "cell_type": "code",
   "execution_count": 4,
   "metadata": {},
   "outputs": [],
   "source": [
    "def get_left_menus_handle():\n",
    "    while True:\n",
    "        try:\n",
    "            handle = main.window(\n",
    "                control_id=129,\n",
    "                class_name='SysTreeView32'\n",
    "            )\n",
    "            # sometime can't find handle ready, must retry\n",
    "            handle.wait('ready', 2)\n",
    "            return handle\n",
    "        except:\n",
    "            pass"
   ]
  },
  {
   "cell_type": "markdown",
   "metadata": {},
   "source": [
    "## 一些message\n",
    "- 系统正在清算中，请稍后重试"
   ]
  },
  {
   "cell_type": "markdown",
   "metadata": {},
   "source": [
    "## 查询持有股票"
   ]
  },
  {
   "cell_type": "code",
   "execution_count": 7,
   "metadata": {},
   "outputs": [
    {
     "data": {
      "text/plain": [
       "<pywinauto.controls.common_controls._treeview_element at 0x67d5770>"
      ]
     },
     "execution_count": 7,
     "metadata": {},
     "output_type": "execute_result"
    }
   ],
   "source": [
    "get_left_menus_handle().get_item(['查询[F4]', '资金股票']).click()"
   ]
  },
  {
   "cell_type": "code",
   "execution_count": 8,
   "metadata": {},
   "outputs": [],
   "source": [
    "from captcha_recognize import captcha_recognize"
   ]
  },
  {
   "cell_type": "code",
   "execution_count": 17,
   "metadata": {},
   "outputs": [
    {
     "name": "stdout",
     "output_type": "stream",
     "text": [
      "5827\n",
      "明细\t证券代码\t证券名称\t股票余额\t可用余额\t冻结数量\t盈亏\t成本价\t盈亏比例(%)\t市价\t市值\t交易市场\t股东帐户\t实际数量\t可申赎数量\t资讯\t\r\n",
      "\t162411\t华宝油气\t2900\t2900\t0\t-43.55\t0.547\t-2.75\t0.53\t1542.80\t深圳Ａ股\t00101106569\t2900\t2900\t\t\u0000\u0000\u0000\u0000\u0000\u0000\u0000\u0000\u0000\u0000\u0000\u0000\u0000\u0000\u0000\u0000\u0000\u0000\u0000\u0000\u0000\u0000\u0000\u0000\u0000\u0000\u0000\u0000\u0000\u0000\u0000\u0000\u0000\u0000\u0000\u0000\u0000\u0000\u0000\u0000\u0000\u0000\u0000\u0000\u0000\u0000\u0000\u0000\u0000\u0000\u0000\u0000\u0000\u0000\u0000\u0000\u0000\u0000\u0000\u0000\u0000\u0000\n"
     ]
    }
   ],
   "source": [
    "grid = main.window(control_id=0x417, class_name='CVirtualGridCtrl')\n",
    "\n",
    "grid.set_focus().right_click()   # 模拟右键\n",
    "pywinauto.keyboard.SendKeys('c') # 模拟发送C\n",
    "\n",
    "\n",
    "file_path = \"tmp.png\"\n",
    "app.top_window().window(\n",
    "    control_id=0x965,\n",
    "    class_name='Static'\n",
    ").CaptureAsImage().save(file_path)  #保存验证码\n",
    "\n",
    "captcha_num = captcha_recognize(file_path)  # 识别验证码\n",
    "print(captcha_num)\n",
    "app.top_window().window(control_id=0x964, class_name='Edit').set_text(captcha_num)  # 模拟输入验证码\n",
    "\n",
    "app.top_window().set_focus()\n",
    "pywinauto.keyboard.SendKeys(\"{ENTER}\")   # 模拟发送enter，点击确定\n",
    "\n",
    "print(clipboard.GetData())  # "
   ]
  },
  {
   "cell_type": "code",
   "execution_count": 15,
   "metadata": {},
   "outputs": [],
   "source": [
    "import pandas as pd\n",
    "import io"
   ]
  },
  {
   "cell_type": "code",
   "execution_count": 18,
   "metadata": {},
   "outputs": [
    {
     "data": {
      "text/html": [
       "<div>\n",
       "<style scoped>\n",
       "    .dataframe tbody tr th:only-of-type {\n",
       "        vertical-align: middle;\n",
       "    }\n",
       "\n",
       "    .dataframe tbody tr th {\n",
       "        vertical-align: top;\n",
       "    }\n",
       "\n",
       "    .dataframe thead th {\n",
       "        text-align: right;\n",
       "    }\n",
       "</style>\n",
       "<table border=\"1\" class=\"dataframe\">\n",
       "  <thead>\n",
       "    <tr style=\"text-align: right;\">\n",
       "      <th></th>\n",
       "      <th>明细</th>\n",
       "      <th>证券代码</th>\n",
       "      <th>证券名称</th>\n",
       "      <th>股票余额</th>\n",
       "      <th>可用余额</th>\n",
       "      <th>冻结数量</th>\n",
       "      <th>盈亏</th>\n",
       "      <th>成本价</th>\n",
       "      <th>盈亏比例(%)</th>\n",
       "      <th>市价</th>\n",
       "      <th>市值</th>\n",
       "      <th>交易市场</th>\n",
       "      <th>股东帐户</th>\n",
       "      <th>实际数量</th>\n",
       "      <th>可申赎数量</th>\n",
       "      <th>资讯</th>\n",
       "      <th>Unnamed: 16</th>\n",
       "    </tr>\n",
       "  </thead>\n",
       "  <tbody>\n",
       "    <tr>\n",
       "      <th>0</th>\n",
       "      <td></td>\n",
       "      <td>162411</td>\n",
       "      <td>华宝油气</td>\n",
       "      <td>2900</td>\n",
       "      <td>2900</td>\n",
       "      <td>0</td>\n",
       "      <td>-43.55</td>\n",
       "      <td>0.547</td>\n",
       "      <td>-2.75</td>\n",
       "      <td>0.53</td>\n",
       "      <td>1542.8</td>\n",
       "      <td>深圳Ａ股</td>\n",
       "      <td>101106569</td>\n",
       "      <td>2900</td>\n",
       "      <td>2900</td>\n",
       "      <td></td>\n",
       "      <td></td>\n",
       "    </tr>\n",
       "  </tbody>\n",
       "</table>\n",
       "</div>"
      ],
      "text/plain": [
       "  明细    证券代码  证券名称  股票余额  可用余额  冻结数量     盈亏    成本价  盈亏比例(%)    市价      市值  \\\n",
       "0     162411  华宝油气  2900  2900     0 -43.55  0.547    -2.75  0.53  1542.8   \n",
       "\n",
       "   交易市场       股东帐户  实际数量  可申赎数量 资讯 Unnamed: 16  \n",
       "0  深圳Ａ股  101106569  2900   2900                 "
      ]
     },
     "execution_count": 18,
     "metadata": {},
     "output_type": "execute_result"
    }
   ],
   "source": [
    "data = clipboard.GetData()\n",
    "df = pd.read_csv(io.StringIO(data),\n",
    "                 delimiter='\\t',\n",
    "                 na_filter=False)\n",
    "df"
   ]
  },
  {
   "cell_type": "markdown",
   "metadata": {},
   "source": [
    "## 模拟买入"
   ]
  },
  {
   "cell_type": "code",
   "execution_count": 19,
   "metadata": {},
   "outputs": [
    {
     "data": {
      "text/plain": [
       "<pywinauto.controls.common_controls._treeview_element at 0x2ff7e50>"
      ]
     },
     "execution_count": 19,
     "metadata": {},
     "output_type": "execute_result"
    }
   ],
   "source": [
    "get_left_menus_handle().get_item(['买入[F1]']).click()"
   ]
  },
  {
   "cell_type": "code",
   "execution_count": null,
   "metadata": {},
   "outputs": [],
   "source": [
    "def parse_trade_msg(msg):\n",
    "    pass"
   ]
  },
  {
   "cell_type": "code",
   "execution_count": 20,
   "metadata": {},
   "outputs": [],
   "source": [
    "stock_id = \"162411\""
   ]
  },
  {
   "cell_type": "code",
   "execution_count": 21,
   "metadata": {},
   "outputs": [
    {
     "name": "stdout",
     "output_type": "stream",
     "text": [
      "您的买入委托已成功提交，合同编号：865912566。\n"
     ]
    }
   ],
   "source": [
    "main.window(control_id=0x408, class_name=\"Edit\").set_text(stock_id)  # 设置股票代码\n",
    "\n",
    "main.window(control_id=0x409, class_name=\"Edit\").set_text(\"0.547\")  # 设置价格\n",
    "\n",
    "main.window(control_id=0x40A, class_name=\"Edit\").set_text(\"100\")   # 设置股数目\n",
    "\n",
    "main.window(control_id=0x3EE, class_name=\"Button\").click()   # 点击买入\n",
    "app.top_window().window(control_id=0x6, class_name='Button').click()  # 确定买入\n",
    "print(app.top_window().window(control_id=0x3EC, class_name='Static').window_text())\n",
    "app.top_window().window(control_id=0x2, class_name='Button').click()  # 确定"
   ]
  },
  {
   "cell_type": "markdown",
   "metadata": {},
   "source": [
    "## 模拟买出"
   ]
  },
  {
   "cell_type": "code",
   "execution_count": 37,
   "metadata": {},
   "outputs": [
    {
     "data": {
      "text/plain": [
       "<pywinauto.controls.common_controls._treeview_element at 0x7f3ded0>"
      ]
     },
     "execution_count": 37,
     "metadata": {},
     "output_type": "execute_result"
    }
   ],
   "source": [
    "get_left_menus_handle().get_item(['卖出[F2]']).click()"
   ]
  },
  {
   "cell_type": "code",
   "execution_count": 46,
   "metadata": {},
   "outputs": [
    {
     "name": "stdout",
     "output_type": "stream",
     "text": [
      "系统正在清算中，请稍后重试！\n"
     ]
    }
   ],
   "source": [
    "main.window(control_id=0x408, class_name=\"Edit\").set_text(stock_id)  # 设置股票代码\n",
    "\n",
    "main.window(control_id=0x409, class_name=\"Edit\").set_text(\"0.547\")  # 设置价格\n",
    "\n",
    "main.window(control_id=0x40A, class_name=\"Edit\").set_text(\"100\")   # 设置股数目\n",
    "\n",
    "main.window(control_id=0x3EE, class_name=\"Button\").click()   # 点击卖出\n",
    "\n",
    "app.top_window().window(control_id=0x6, class_name='Button').click()  # 确定卖出\n",
    "\n",
    "print(app.top_window().window(control_id=0x3EC, class_name='Static').window_text())\n",
    "\n",
    "app.top_window().set_focus()\n",
    "pywinauto.keyboard.SendKeys(\"{ENTER}\")   # 模拟发送enter，点击确定"
   ]
  },
  {
   "cell_type": "markdown",
   "metadata": {},
   "source": [
    "## 获取当日委托"
   ]
  },
  {
   "cell_type": "code",
   "execution_count": 29,
   "metadata": {},
   "outputs": [
    {
     "data": {
      "text/plain": [
       "<pywinauto.controls.common_controls._treeview_element at 0x7fa52b0>"
      ]
     },
     "execution_count": 29,
     "metadata": {},
     "output_type": "execute_result"
    }
   ],
   "source": [
    "get_left_menus_handle().get_item(['查询[F4]', '当日委托']).click()"
   ]
  },
  {
   "cell_type": "code",
   "execution_count": 30,
   "metadata": {},
   "outputs": [
    {
     "name": "stdout",
     "output_type": "stream",
     "text": [
      "备注\t操作\t证券代码\t证券名称\t委托数量\t成交数量\t委托价格\t成交均价\t撤消数量\t委托时间\t委托日期\t合同编号\t\r\n",
      "全部成交\t买入\t162411\t华宝油气\t100\t100\t0.547\t0.533\t0\t13:55:17\t20180329\t865912566\t\r\n",
      "未成交\t卖出\t162411\t华宝油气\t100\t0\t0.547\t0.000\t0\t14:40:40\t20180329\t865967836\t\u0000\u0000\u0000\u0000\u0000\u0000\u0000\u0000\u0000\u0000\u0000\u0000\u0000\u0000\u0000\u0000\u0000\u0000\u0000\u0000\u0000\u0000\u0000\u0000\u0000\u0000\u0000\u0000\u0000\u0000\u0000\u0000\u0000\u0000\u0000\u0000\u0000\u0000\u0000\u0000\u0000\u0000\u0000\u0000\u0000\u0000\u0000\u0000\u0000\u0000\u0000\u0000\u0000\u0000\u0000\u0000\u0000\u0000\u0000\u0000\u0000\u0000\u0000\n"
     ]
    },
    {
     "data": {
      "text/html": [
       "<div>\n",
       "<style scoped>\n",
       "    .dataframe tbody tr th:only-of-type {\n",
       "        vertical-align: middle;\n",
       "    }\n",
       "\n",
       "    .dataframe tbody tr th {\n",
       "        vertical-align: top;\n",
       "    }\n",
       "\n",
       "    .dataframe thead th {\n",
       "        text-align: right;\n",
       "    }\n",
       "</style>\n",
       "<table border=\"1\" class=\"dataframe\">\n",
       "  <thead>\n",
       "    <tr style=\"text-align: right;\">\n",
       "      <th></th>\n",
       "      <th>备注</th>\n",
       "      <th>操作</th>\n",
       "      <th>证券代码</th>\n",
       "      <th>证券名称</th>\n",
       "      <th>委托数量</th>\n",
       "      <th>成交数量</th>\n",
       "      <th>委托价格</th>\n",
       "      <th>成交均价</th>\n",
       "      <th>撤消数量</th>\n",
       "      <th>委托时间</th>\n",
       "      <th>委托日期</th>\n",
       "      <th>合同编号</th>\n",
       "      <th>Unnamed: 12</th>\n",
       "    </tr>\n",
       "  </thead>\n",
       "  <tbody>\n",
       "    <tr>\n",
       "      <th>0</th>\n",
       "      <td>全部成交</td>\n",
       "      <td>买入</td>\n",
       "      <td>162411</td>\n",
       "      <td>华宝油气</td>\n",
       "      <td>100</td>\n",
       "      <td>100</td>\n",
       "      <td>0.547</td>\n",
       "      <td>0.533</td>\n",
       "      <td>0</td>\n",
       "      <td>13:55:17</td>\n",
       "      <td>20180329</td>\n",
       "      <td>865912566</td>\n",
       "      <td></td>\n",
       "    </tr>\n",
       "    <tr>\n",
       "      <th>1</th>\n",
       "      <td>未成交</td>\n",
       "      <td>卖出</td>\n",
       "      <td>162411</td>\n",
       "      <td>华宝油气</td>\n",
       "      <td>100</td>\n",
       "      <td>0</td>\n",
       "      <td>0.547</td>\n",
       "      <td>0.000</td>\n",
       "      <td>0</td>\n",
       "      <td>14:40:40</td>\n",
       "      <td>20180329</td>\n",
       "      <td>865967836</td>\n",
       "      <td></td>\n",
       "    </tr>\n",
       "  </tbody>\n",
       "</table>\n",
       "</div>"
      ],
      "text/plain": [
       "     备注  操作    证券代码  证券名称  委托数量  成交数量   委托价格   成交均价  撤消数量      委托时间      委托日期  \\\n",
       "0  全部成交  买入  162411  华宝油气   100   100  0.547  0.533     0  13:55:17  20180329   \n",
       "1   未成交  卖出  162411  华宝油气   100     0  0.547  0.000     0  14:40:40  20180329   \n",
       "\n",
       "        合同编号 Unnamed: 12  \n",
       "0  865912566              \n",
       "1  865967836              "
      ]
     },
     "execution_count": 30,
     "metadata": {},
     "output_type": "execute_result"
    }
   ],
   "source": [
    "grid = main.window(\n",
    "    control_id=0x417,\n",
    "    class_name='CVirtualGridCtrl'\n",
    ")\n",
    "grid.set_focus().right_click()   # 模拟右键\n",
    "pywinauto.keyboard.SendKeys('c') # 模拟发送C\n",
    "\n",
    "\n",
    "file_path = \"tmp.png\"\n",
    "app.top_window().window(\n",
    "    control_id=0x965,\n",
    "    class_name='Static'\n",
    ").CaptureAsImage().save(file_path)  #保存验证码\n",
    "\n",
    "captcha_num = captcha_recognize(file_path)  # 识别验证码\n",
    "\n",
    "app.top_window().window(\n",
    "    control_id=0x964,\n",
    "    class_name='Edit'\n",
    ").set_text(captcha_num)  # 模拟输入验证码\n",
    "\n",
    "app.top_window().set_focus()\n",
    "pywinauto.keyboard.SendKeys(\"{ENTER}\")   # 模拟发送enter，点击确定\n",
    "\n",
    "print(clipboard.GetData())\n",
    "\n",
    "data = clipboard.GetData()\n",
    "df = pd.read_csv(io.StringIO(data),\n",
    "                 delimiter='\\t',\n",
    "                 na_filter=False)\n",
    "df"
   ]
  },
  {
   "cell_type": "markdown",
   "metadata": {},
   "source": [
    "## 获取当日成交"
   ]
  },
  {
   "cell_type": "code",
   "execution_count": 26,
   "metadata": {},
   "outputs": [
    {
     "data": {
      "text/plain": [
       "<pywinauto.controls.common_controls._treeview_element at 0x7f5d850>"
      ]
     },
     "execution_count": 26,
     "metadata": {},
     "output_type": "execute_result"
    }
   ],
   "source": [
    "get_left_menus_handle().get_item(['查询[F4]', '当日成交']).click()"
   ]
  },
  {
   "cell_type": "code",
   "execution_count": 28,
   "metadata": {},
   "outputs": [
    {
     "name": "stdout",
     "output_type": "stream",
     "text": [
      "成交时间\t证券代码\t证券名称\t操作\t成交数量\t成交均价\t成交金额\t合同编号\t成交编号\t撤单数量\t股票余额\t\r\n",
      "13:55:19\t162411\t华宝油气\t买入\t100\t0.533\t53.300\t865912566\t2339251680\t0\t3000\t\u0000\u0000\u0000\u0000\u0000\u0000\u0000\u0000\u0000\u0000\u0000\u0000\u0000\u0000\u0000\u0000\u0000\u0000\u0000\u0000\u0000\u0000\u0000\u0000\u0000\u0000\u0000\u0000\u0000\u0000\u0000\u0000\u0000\u0000\u0000\u0000\u0000\u0000\u0000\u0000\u0000\u0000\u0000\u0000\u0000\u0000\u0000\u0000\n"
     ]
    },
    {
     "data": {
      "text/html": [
       "<div>\n",
       "<style scoped>\n",
       "    .dataframe tbody tr th:only-of-type {\n",
       "        vertical-align: middle;\n",
       "    }\n",
       "\n",
       "    .dataframe tbody tr th {\n",
       "        vertical-align: top;\n",
       "    }\n",
       "\n",
       "    .dataframe thead th {\n",
       "        text-align: right;\n",
       "    }\n",
       "</style>\n",
       "<table border=\"1\" class=\"dataframe\">\n",
       "  <thead>\n",
       "    <tr style=\"text-align: right;\">\n",
       "      <th></th>\n",
       "      <th>成交时间</th>\n",
       "      <th>证券代码</th>\n",
       "      <th>证券名称</th>\n",
       "      <th>操作</th>\n",
       "      <th>成交数量</th>\n",
       "      <th>成交均价</th>\n",
       "      <th>成交金额</th>\n",
       "      <th>合同编号</th>\n",
       "      <th>成交编号</th>\n",
       "      <th>撤单数量</th>\n",
       "      <th>股票余额</th>\n",
       "      <th>Unnamed: 11</th>\n",
       "    </tr>\n",
       "  </thead>\n",
       "  <tbody>\n",
       "    <tr>\n",
       "      <th>0</th>\n",
       "      <td>13:55:19</td>\n",
       "      <td>162411</td>\n",
       "      <td>华宝油气</td>\n",
       "      <td>买入</td>\n",
       "      <td>100</td>\n",
       "      <td>0.533</td>\n",
       "      <td>53.3</td>\n",
       "      <td>865912566</td>\n",
       "      <td>2339251680</td>\n",
       "      <td>0</td>\n",
       "      <td>3000</td>\n",
       "      <td></td>\n",
       "    </tr>\n",
       "  </tbody>\n",
       "</table>\n",
       "</div>"
      ],
      "text/plain": [
       "       成交时间    证券代码  证券名称  操作  成交数量   成交均价  成交金额       合同编号        成交编号  撤单数量  \\\n",
       "0  13:55:19  162411  华宝油气  买入   100  0.533  53.3  865912566  2339251680     0   \n",
       "\n",
       "   股票余额 Unnamed: 11  \n",
       "0  3000              "
      ]
     },
     "execution_count": 28,
     "metadata": {},
     "output_type": "execute_result"
    }
   ],
   "source": [
    "grid = main.window(\n",
    "    control_id=0x417,\n",
    "    class_name='CVirtualGridCtrl'\n",
    ")\n",
    "grid.set_focus().right_click()   # 模拟右键\n",
    "pywinauto.keyboard.SendKeys('c') # 模拟发送C\n",
    "\n",
    "\n",
    "file_path = \"tmp.png\"\n",
    "app.top_window().window(\n",
    "    control_id=0x965,\n",
    "    class_name='Static'\n",
    ").CaptureAsImage().save(file_path)  #保存验证码\n",
    "\n",
    "captcha_num = captcha_recognize(file_path)  # 识别验证码\n",
    "\n",
    "app.top_window().window(\n",
    "    control_id=0x964,\n",
    "    class_name='Edit'\n",
    ").set_text(captcha_num)  # 模拟输入验证码\n",
    "\n",
    "app.top_window().set_focus()\n",
    "pywinauto.keyboard.SendKeys(\"{ENTER}\")   # 模拟发送enter，点击确定\n",
    "\n",
    "print(clipboard.GetData())\n",
    "\n",
    "data = clipboard.GetData()\n",
    "df = pd.read_csv(io.StringIO(data),\n",
    "                 delimiter='\\t',\n",
    "                 na_filter=False)\n",
    "df"
   ]
  },
  {
   "cell_type": "markdown",
   "metadata": {},
   "source": [
    "## 撤单"
   ]
  },
  {
   "cell_type": "code",
   "execution_count": 31,
   "metadata": {},
   "outputs": [
    {
     "data": {
      "text/plain": [
       "<pywinauto.controls.common_controls._treeview_element at 0x7f205f0>"
      ]
     },
     "execution_count": 31,
     "metadata": {},
     "output_type": "execute_result"
    }
   ],
   "source": [
    "get_left_menus_handle().get_item(['撤单[F3]']).click()"
   ]
  },
  {
   "cell_type": "code",
   "execution_count": 32,
   "metadata": {},
   "outputs": [],
   "source": [
    "entrust_no = \"865967836\""
   ]
  },
  {
   "cell_type": "code",
   "execution_count": 33,
   "metadata": {},
   "outputs": [
    {
     "name": "stdout",
     "output_type": "stream",
     "text": [
      "委托时间\t证券代码\t证券名称\t操作\t备注\t委托数量\t成交数量\t撤消数量\t委托价格\t订单类型\t成交均价\t合同编号\t\r\n",
      "14:40:40\t162411\t华宝油气\t卖出\t未成交\t100\t0\t0\t0.547\t限价\t0.000\t865967836\t\u0000\u0000\u0000\u0000\u0000\u0000\u0000\u0000\u0000\u0000\u0000\u0000\u0000\u0000\u0000\u0000\u0000\u0000\u0000\u0000\u0000\u0000\u0000\u0000\u0000\u0000\u0000\u0000\u0000\u0000\u0000\u0000\u0000\u0000\u0000\u0000\u0000\u0000\u0000\u0000\u0000\u0000\u0000\u0000\u0000\u0000\u0000\u0000\u0000\u0000\u0000\u0000\u0000\u0000\u0000\n"
     ]
    }
   ],
   "source": [
    "def get_entrusts():\n",
    "    grid = main.window(\n",
    "        control_id=0x417,\n",
    "        class_name='CVirtualGridCtrl'\n",
    "    )\n",
    "    grid.set_focus().right_click()   # 模拟右键\n",
    "    pywinauto.keyboard.SendKeys('c') # 模拟发送C\n",
    "\n",
    "\n",
    "    file_path = \"tmp.png\"\n",
    "    app.top_window().window(\n",
    "        control_id=0x965,\n",
    "        class_name='Static'\n",
    "    ).CaptureAsImage().save(file_path)  #保存验证码\n",
    "\n",
    "    captcha_num = captcha_recognize(file_path)  # 识别验证码\n",
    "\n",
    "    app.top_window().window(\n",
    "        control_id=0x964,\n",
    "        class_name='Edit'\n",
    "    ).set_text(captcha_num)  # 模拟输入验证码\n",
    "\n",
    "    app.top_window().set_focus()\n",
    "    pywinauto.keyboard.SendKeys(\"{ENTER}\")   # 模拟发送enter，点击确定\n",
    "\n",
    "    print(clipboard.GetData())\n",
    "\n",
    "    data = clipboard.GetData()\n",
    "    df = pd.read_csv(io.StringIO(data),\n",
    "                     delimiter='\\t',\n",
    "                     na_filter=False)\n",
    "    return df.to_dict('records')\n",
    "\n",
    "entrusts = get_entrusts()"
   ]
  },
  {
   "cell_type": "code",
   "execution_count": 34,
   "metadata": {},
   "outputs": [
    {
     "data": {
      "text/plain": [
       "[{'Unnamed: 12': '',\n",
       "  '合同编号': 865967836,\n",
       "  '备注': '未成交',\n",
       "  '委托价格': 0.547,\n",
       "  '委托数量': 100,\n",
       "  '委托时间': '14:40:40',\n",
       "  '成交均价': 0.0,\n",
       "  '成交数量': 0,\n",
       "  '撤消数量': 0,\n",
       "  '操作': '卖出',\n",
       "  '订单类型': '限价',\n",
       "  '证券代码': 162411,\n",
       "  '证券名称': '华宝油气'}]"
      ]
     },
     "execution_count": 34,
     "metadata": {},
     "output_type": "execute_result"
    }
   ],
   "source": [
    "entrusts"
   ]
  },
  {
   "cell_type": "code",
   "execution_count": 35,
   "metadata": {},
   "outputs": [],
   "source": [
    "def cancel_by_double_click(row):\n",
    "    x = 50\n",
    "    y = 30 + 16 * row\n",
    "    app.top_window().window(\n",
    "            control_id=1047,\n",
    "            class_name='CVirtualGridCtrl'\n",
    "    ).double_click(coords=(x, y))\n",
    "    \n",
    "    app.top_window().window(control_id=0x6, class_name='Button').click()  # 确定撤单\n",
    "\n",
    "    print(\"msg:\", app.top_window().window(control_id=0x3EC, class_name='Static').window_text())\n",
    "    \n",
    "    app.top_window().window(control_id=0x2, class_name='Button').click()  # 确定撤单"
   ]
  },
  {
   "cell_type": "code",
   "execution_count": 36,
   "metadata": {},
   "outputs": [
    {
     "name": "stdout",
     "output_type": "stream",
     "text": [
      "0 865967836\n",
      "canceling 865967836\n",
      "msg: 您的撤单委托已成功提交，合同编号：865967836。\n"
     ]
    }
   ],
   "source": [
    "for i, entrust in enumerate(entrusts):\n",
    "    print(i, entrust[\"合同编号\"])\n",
    "    if str(entrust[\"合同编号\"]) == entrust_no:\n",
    "        print(\"canceling\", entrust_no)\n",
    "        cancel_by_double_click(i)"
   ]
  }
 ],
 "metadata": {
  "kernelspec": {
   "display_name": "Python 3",
   "language": "python",
   "name": "python3"
  },
  "language_info": {
   "codemirror_mode": {
    "name": "ipython",
    "version": 3
   },
   "file_extension": ".py",
   "mimetype": "text/x-python",
   "name": "python",
   "nbconvert_exporter": "python",
   "pygments_lexer": "ipython3",
   "version": "3.6.4"
  }
 },
 "nbformat": 4,
 "nbformat_minor": 2
}
